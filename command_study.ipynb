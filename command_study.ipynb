{
 "cells": [
  {
   "cell_type": "code",
   "execution_count": 1,
   "metadata": {},
   "outputs": [
    {
     "name": "stdout",
     "output_type": "stream",
     "text": [
      "Collecting cohere\n",
      "  Downloading cohere-5.5.3-py3-none-any.whl (166 kB)\n",
      "\u001b[2K     \u001b[90m━━━━━━━━━━━━━━━━━━━━━━━━━━━━━━━━━━━━━━━\u001b[0m \u001b[32m166.6/166.6 kB\u001b[0m \u001b[31m3.6 MB/s\u001b[0m eta \u001b[36m0:00:00\u001b[0m00:01\u001b[0m\n",
      "\u001b[?25hCollecting boto3<2.0.0,>=1.34.0\n",
      "  Downloading boto3-1.34.114-py3-none-any.whl (139 kB)\n",
      "\u001b[2K     \u001b[90m━━━━━━━━━━━━━━━━━━━━━━━━━━━━━━━━━━━━━━━\u001b[0m \u001b[32m139.3/139.3 kB\u001b[0m \u001b[31m6.0 MB/s\u001b[0m eta \u001b[36m0:00:00\u001b[0m\n",
      "\u001b[?25hRequirement already satisfied: requests<3.0.0,>=2.0.0 in /opt/anaconda3/lib/python3.9/site-packages (from cohere) (2.28.1)\n",
      "Collecting httpx-sse<0.5.0,>=0.4.0\n",
      "  Downloading httpx_sse-0.4.0-py3-none-any.whl (7.8 kB)\n",
      "Collecting httpx>=0.21.2\n",
      "  Using cached httpx-0.27.0-py3-none-any.whl (75 kB)\n",
      "Collecting pydantic>=1.9.2\n",
      "  Downloading pydantic-2.7.2-py3-none-any.whl (409 kB)\n",
      "\u001b[2K     \u001b[90m━━━━━━━━━━━━━━━━━━━━━━━━━━━━━━━━━━━━━━━\u001b[0m \u001b[32m409.5/409.5 kB\u001b[0m \u001b[31m7.9 MB/s\u001b[0m eta \u001b[36m0:00:00\u001b[0ma \u001b[36m0:00:01\u001b[0m\n",
      "\u001b[?25hCollecting fastavro<2.0.0,>=1.9.4\n",
      "  Downloading fastavro-1.9.4.tar.gz (985 kB)\n",
      "\u001b[2K     \u001b[90m━━━━━━━━━━━━━━━━━━━━━━━━━━━━━━━━━━━━━━\u001b[0m \u001b[32m985.9/985.9 kB\u001b[0m \u001b[31m12.5 MB/s\u001b[0m eta \u001b[36m0:00:00\u001b[0ma \u001b[36m0:00:01\u001b[0m\n",
      "\u001b[?25h  Installing build dependencies ... \u001b[?25ldone\n",
      "\u001b[?25h  Getting requirements to build wheel ... \u001b[?25ldone\n",
      "\u001b[?25h  Preparing metadata (pyproject.toml) ... \u001b[?25ldone\n",
      "\u001b[?25hRequirement already satisfied: typing_extensions>=4.0.0 in /opt/anaconda3/lib/python3.9/site-packages (from cohere) (4.3.0)\n",
      "Collecting types-requests<3.0.0,>=2.0.0\n",
      "  Downloading types_requests-2.32.0.20240523-py3-none-any.whl (15 kB)\n",
      "Collecting tokenizers<0.20,>=0.19\n",
      "  Downloading tokenizers-0.19.1-cp39-cp39-macosx_10_12_x86_64.whl (2.5 MB)\n",
      "\u001b[2K     \u001b[90m━━━━━━━━━━━━━━━━━━━━━━━━━━━━━━━━━━━━━━━━\u001b[0m \u001b[32m2.5/2.5 MB\u001b[0m \u001b[31m19.5 MB/s\u001b[0m eta \u001b[36m0:00:00\u001b[0ma \u001b[36m0:00:01\u001b[0m\n",
      "\u001b[?25hRequirement already satisfied: jmespath<2.0.0,>=0.7.1 in /opt/anaconda3/lib/python3.9/site-packages (from boto3<2.0.0,>=1.34.0->cohere) (0.10.0)\n",
      "Collecting s3transfer<0.11.0,>=0.10.0\n",
      "  Downloading s3transfer-0.10.1-py3-none-any.whl (82 kB)\n",
      "\u001b[2K     \u001b[90m━━━━━━━━━━━━━━━━━━━━━━━━━━━━━━━━━━━━━━━━\u001b[0m \u001b[32m82.2/82.2 kB\u001b[0m \u001b[31m11.7 MB/s\u001b[0m eta \u001b[36m0:00:00\u001b[0m\n",
      "\u001b[?25hCollecting botocore<1.35.0,>=1.34.114\n",
      "  Downloading botocore-1.34.114-py3-none-any.whl (12.3 MB)\n",
      "\u001b[2K     \u001b[90m━━━━━━━━━━━━━━━━━━━━━━━━━━━━━━━━━━━━━━━━\u001b[0m \u001b[32m12.3/12.3 MB\u001b[0m \u001b[31m31.5 MB/s\u001b[0m eta \u001b[36m0:00:00\u001b[0m00:01\u001b[0m00:01\u001b[0m\n",
      "\u001b[?25hRequirement already satisfied: anyio in /opt/anaconda3/lib/python3.9/site-packages (from httpx>=0.21.2->cohere) (3.5.0)\n",
      "Collecting httpcore==1.*\n",
      "  Using cached httpcore-1.0.5-py3-none-any.whl (77 kB)\n",
      "Requirement already satisfied: certifi in /opt/anaconda3/lib/python3.9/site-packages (from httpx>=0.21.2->cohere) (2022.9.24)\n",
      "Requirement already satisfied: sniffio in /opt/anaconda3/lib/python3.9/site-packages (from httpx>=0.21.2->cohere) (1.2.0)\n",
      "Requirement already satisfied: idna in /opt/anaconda3/lib/python3.9/site-packages (from httpx>=0.21.2->cohere) (3.3)\n",
      "Collecting h11<0.15,>=0.13\n",
      "  Using cached h11-0.14.0-py3-none-any.whl (58 kB)\n",
      "Collecting annotated-types>=0.4.0\n",
      "  Using cached annotated_types-0.7.0-py3-none-any.whl (13 kB)\n",
      "Collecting typing_extensions>=4.0.0\n",
      "  Downloading typing_extensions-4.12.0-py3-none-any.whl (37 kB)\n",
      "Collecting pydantic-core==2.18.3\n",
      "  Downloading pydantic_core-2.18.3-cp39-cp39-macosx_10_12_x86_64.whl (1.8 MB)\n",
      "\u001b[2K     \u001b[90m━━━━━━━━━━━━━━━━━━━━━━━━━━━━━━━━━━━━━━━━\u001b[0m \u001b[32m1.8/1.8 MB\u001b[0m \u001b[31m34.6 MB/s\u001b[0m eta \u001b[36m0:00:00\u001b[0ma \u001b[36m0:00:01\u001b[0m\n",
      "\u001b[?25hRequirement already satisfied: urllib3<1.27,>=1.21.1 in /opt/anaconda3/lib/python3.9/site-packages (from requests<3.0.0,>=2.0.0->cohere) (1.26.11)\n",
      "Requirement already satisfied: charset-normalizer<3,>=2 in /opt/anaconda3/lib/python3.9/site-packages (from requests<3.0.0,>=2.0.0->cohere) (2.0.4)\n",
      "Collecting huggingface-hub<1.0,>=0.16.4\n",
      "  Downloading huggingface_hub-0.23.2-py3-none-any.whl (401 kB)\n",
      "\u001b[2K     \u001b[90m━━━━━━━━━━━━━━━━━━━━━━━━━━━━━━━━━━━━━━\u001b[0m \u001b[32m401.7/401.7 kB\u001b[0m \u001b[31m17.3 MB/s\u001b[0m eta \u001b[36m0:00:00\u001b[0m\n",
      "\u001b[?25hCollecting types-requests<3.0.0,>=2.0.0\n",
      "  Downloading types_requests-2.32.0.20240521-py3-none-any.whl (15 kB)\n",
      "  Downloading types_requests-2.31.0.20240406-py3-none-any.whl (15 kB)\n",
      "  Downloading types_requests-2.31.0.20240403-py3-none-any.whl (15 kB)\n",
      "  Downloading types_requests-2.31.0.20240402-py3-none-any.whl (15 kB)\n",
      "  Downloading types_requests-2.31.0.20240311-py3-none-any.whl (14 kB)\n",
      "  Downloading types_requests-2.31.0.20240310-py3-none-any.whl (14 kB)\n",
      "  Downloading types_requests-2.31.0.20240218-py3-none-any.whl (14 kB)\n",
      "  Downloading types_requests-2.31.0.20240125-py3-none-any.whl (14 kB)\n",
      "  Downloading types_requests-2.31.0.20240106-py3-none-any.whl (14 kB)\n",
      "  Downloading types_requests-2.31.0.20231231-py3-none-any.whl (14 kB)\n",
      "  Downloading types_requests-2.31.0.10-py3-none-any.whl (14 kB)\n",
      "  Downloading types_requests-2.31.0.9-py3-none-any.whl (14 kB)\n",
      "  Downloading types_requests-2.31.0.8-py3-none-any.whl (14 kB)\n",
      "  Downloading types_requests-2.31.0.7-py3-none-any.whl (14 kB)\n",
      "  Downloading types_requests-2.31.0.6-py3-none-any.whl (14 kB)\n",
      "Collecting types-urllib3\n",
      "  Downloading types_urllib3-1.26.25.14-py3-none-any.whl (15 kB)\n",
      "Requirement already satisfied: python-dateutil<3.0.0,>=2.1 in /opt/anaconda3/lib/python3.9/site-packages (from botocore<1.35.0,>=1.34.114->boto3<2.0.0,>=1.34.0->cohere) (2.8.2)\n",
      "Requirement already satisfied: packaging>=20.9 in /opt/anaconda3/lib/python3.9/site-packages (from huggingface-hub<1.0,>=0.16.4->tokenizers<0.20,>=0.19->cohere) (21.3)\n",
      "Requirement already satisfied: tqdm>=4.42.1 in /opt/anaconda3/lib/python3.9/site-packages (from huggingface-hub<1.0,>=0.16.4->tokenizers<0.20,>=0.19->cohere) (4.64.1)\n",
      "Requirement already satisfied: pyyaml>=5.1 in /opt/anaconda3/lib/python3.9/site-packages (from huggingface-hub<1.0,>=0.16.4->tokenizers<0.20,>=0.19->cohere) (6.0)\n",
      "Requirement already satisfied: filelock in /opt/anaconda3/lib/python3.9/site-packages (from huggingface-hub<1.0,>=0.16.4->tokenizers<0.20,>=0.19->cohere) (3.6.0)\n",
      "Collecting fsspec>=2023.5.0\n",
      "  Downloading fsspec-2024.5.0-py3-none-any.whl (316 kB)\n",
      "\u001b[2K     \u001b[90m━━━━━━━━━━━━━━━━━━━━━━━━━━━━━━━━━━━━━━\u001b[0m \u001b[32m316.1/316.1 kB\u001b[0m \u001b[31m16.7 MB/s\u001b[0m eta \u001b[36m0:00:00\u001b[0m\n",
      "\u001b[?25hRequirement already satisfied: pyparsing!=3.0.5,>=2.0.2 in /opt/anaconda3/lib/python3.9/site-packages (from packaging>=20.9->huggingface-hub<1.0,>=0.16.4->tokenizers<0.20,>=0.19->cohere) (3.0.9)\n",
      "Requirement already satisfied: six>=1.5 in /opt/anaconda3/lib/python3.9/site-packages (from python-dateutil<3.0.0,>=2.1->botocore<1.35.0,>=1.34.114->boto3<2.0.0,>=1.34.0->cohere) (1.16.0)\n",
      "Building wheels for collected packages: fastavro\n",
      "  Building wheel for fastavro (pyproject.toml) ... \u001b[?25ldone\n",
      "\u001b[?25h  Created wheel for fastavro: filename=fastavro-1.9.4-cp39-cp39-macosx_10_9_x86_64.whl size=527503 sha256=0112aa30935687fefac3a17795d4038b8c8cb53fd8b8554ee5f87c036a67195e\n",
      "  Stored in directory: /Users/tamilarasusaravanakangeyan/Library/Caches/pip/wheels/fc/b1/73/b01eaf80e7465e17b65c335a32e4c5992247bcefd2c396e2b9\n",
      "Successfully built fastavro\n",
      "Installing collected packages: types-urllib3, typing_extensions, types-requests, httpx-sse, h11, fsspec, fastavro, annotated-types, pydantic-core, huggingface-hub, httpcore, botocore, tokenizers, s3transfer, pydantic, httpx, boto3, cohere\n",
      "  Attempting uninstall: typing_extensions\n",
      "    Found existing installation: typing_extensions 4.3.0\n",
      "    Uninstalling typing_extensions-4.3.0:\n",
      "      Successfully uninstalled typing_extensions-4.3.0\n",
      "  Attempting uninstall: fsspec\n",
      "    Found existing installation: fsspec 2022.7.1\n",
      "    Uninstalling fsspec-2022.7.1:\n",
      "      Successfully uninstalled fsspec-2022.7.1\n",
      "  Attempting uninstall: botocore\n",
      "    Found existing installation: botocore 1.27.28\n",
      "    Uninstalling botocore-1.27.28:\n",
      "      Successfully uninstalled botocore-1.27.28\n",
      "  Attempting uninstall: s3transfer\n",
      "    Found existing installation: s3transfer 0.6.0\n",
      "    Uninstalling s3transfer-0.6.0:\n",
      "      Successfully uninstalled s3transfer-0.6.0\n",
      "  Attempting uninstall: boto3\n",
      "    Found existing installation: boto3 1.24.28\n",
      "    Uninstalling boto3-1.24.28:\n",
      "      Successfully uninstalled boto3-1.24.28\n",
      "Successfully installed annotated-types-0.7.0 boto3-1.34.114 botocore-1.34.114 cohere-5.5.3 fastavro-1.9.4 fsspec-2024.5.0 h11-0.14.0 httpcore-1.0.5 httpx-0.27.0 httpx-sse-0.4.0 huggingface-hub-0.23.2 pydantic-2.7.2 pydantic-core-2.18.3 s3transfer-0.10.1 tokenizers-0.19.1 types-requests-2.31.0.6 types-urllib3-1.26.25.14 typing_extensions-4.12.0\n",
      "Note: you may need to restart the kernel to use updated packages.\n"
     ]
    }
   ],
   "source": [
    "pip install cohere"
   ]
  },
  {
   "cell_type": "code",
   "execution_count": 3,
   "metadata": {},
   "outputs": [],
   "source": [
    "import cohere\n",
    "co = cohere.Client('')"
   ]
  },
  {
   "cell_type": "code",
   "execution_count": 4,
   "metadata": {},
   "outputs": [],
   "source": [
    "message = \"Write an introductory paragraph for a blog post about language models.\""
   ]
  },
  {
   "cell_type": "code",
   "execution_count": 5,
   "metadata": {},
   "outputs": [],
   "source": [
    "response = co.chat(  \n",
    "    model='command',  \n",
    "    message=message,\n",
    ")\n",
    "\n",
    "intro_paragraph = response.text"
   ]
  },
  {
   "cell_type": "code",
   "execution_count": 6,
   "metadata": {},
   "outputs": [
    {
     "data": {
      "text/plain": [
       "'Language models are an important piece of the AI ecosystem, and continue to evolve and improve. These models, such as the one I am based on, are developed through a process of training on large amounts of text data which allows me, as a large language model, to create human-like responses to text prompts. \\n\\nThe introduction of language models has revolutionized the way we interact with technology. These models enable computers to understand and generate human-like language, unlocking countless applications. From virtual assistants like me, to text analysis software that can help streamline digital workflows, the impact of language models is everywhere.'"
      ]
     },
     "execution_count": 6,
     "metadata": {},
     "output_type": "execute_result"
    }
   ],
   "source": [
    "intro_paragraph"
   ]
  },
  {
   "cell_type": "code",
   "execution_count": null,
   "metadata": {},
   "outputs": [],
   "source": []
  }
 ],
 "metadata": {
  "kernelspec": {
   "display_name": "base",
   "language": "python",
   "name": "python3"
  },
  "language_info": {
   "codemirror_mode": {
    "name": "ipython",
    "version": 3
   },
   "file_extension": ".py",
   "mimetype": "text/x-python",
   "name": "python",
   "nbconvert_exporter": "python",
   "pygments_lexer": "ipython3",
   "version": "3.9.13"
  }
 },
 "nbformat": 4,
 "nbformat_minor": 2
}
